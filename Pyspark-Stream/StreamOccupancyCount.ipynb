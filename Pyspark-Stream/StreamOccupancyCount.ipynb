{
 "cells": [
  {
   "cell_type": "code",
   "execution_count": 0,
   "metadata": {
    "application/vnd.databricks.v1+cell": {
     "cellMetadata": {
      "byteLimit": 2048000,
      "rowLimit": 10000
     },
     "inputWidgets": {},
     "nuid": "6417b878-6a28-4651-b42f-bef8953bac5f",
     "showTitle": false,
     "tableResultSettingsMap": {},
     "title": ""
    }
   },
   "outputs": [
    {
     "output_type": "display_data",
     "data": {
      "text/html": [
       "<style scoped>\n",
       "  .table-result-container {\n",
       "    max-height: 300px;\n",
       "    overflow: auto;\n",
       "  }\n",
       "  table, th, td {\n",
       "    border: 1px solid black;\n",
       "    border-collapse: collapse;\n",
       "  }\n",
       "  th, td {\n",
       "    padding: 5px;\n",
       "  }\n",
       "  th {\n",
       "    text-align: left;\n",
       "  }\n",
       "</style><div class='table-result-container'><table class='table-result'><thead style='background-color: white'><tr><th>path</th><th>name</th><th>size</th><th>modificationTime</th></tr></thead><tbody><tr><td>dbfs:/FileStore/shared_uploads/hassom20042019@gmail.com/Occupancy/Occupancy-1.csv</td><td>Occupancy-1.csv</td><td>1375350</td><td>1733180149000</td></tr><tr><td>dbfs:/FileStore/shared_uploads/hassom20042019@gmail.com/Occupancy/Occupancy-2.csv</td><td>Occupancy-2.csv</td><td>1375350</td><td>1733180866000</td></tr><tr><td>dbfs:/FileStore/shared_uploads/hassom20042019@gmail.com/Occupancy/Occupancy.csv</td><td>Occupancy.csv</td><td>1375350</td><td>1733179996000</td></tr></tbody></table></div>"
      ]
     },
     "metadata": {
      "application/vnd.databricks.v1+output": {
       "addedWidgets": {},
       "aggData": [],
       "aggError": "",
       "aggOverflow": false,
       "aggSchema": [],
       "aggSeriesLimitReached": false,
       "aggType": "",
       "arguments": {},
       "columnCustomDisplayInfos": {},
       "data": [
        [
         "dbfs:/FileStore/shared_uploads/hassom20042019@gmail.com/Occupancy/Occupancy-1.csv",
         "Occupancy-1.csv",
         1375350,
         1733180149000
        ],
        [
         "dbfs:/FileStore/shared_uploads/hassom20042019@gmail.com/Occupancy/Occupancy-2.csv",
         "Occupancy-2.csv",
         1375350,
         1733180866000
        ],
        [
         "dbfs:/FileStore/shared_uploads/hassom20042019@gmail.com/Occupancy/Occupancy.csv",
         "Occupancy.csv",
         1375350,
         1733179996000
        ]
       ],
       "datasetInfos": [],
       "dbfsResultPath": null,
       "isJsonSchema": true,
       "metadata": {
        "isDbfsCommandResult": false
       },
       "overflow": false,
       "plotOptions": {
        "customPlotOptions": {},
        "displayType": "table",
        "pivotAggregation": null,
        "pivotColumns": null,
        "xColumns": null,
        "yColumns": null
       },
       "removedWidgets": [],
       "schema": [
        {
         "metadata": "{}",
         "name": "path",
         "type": "\"string\""
        },
        {
         "metadata": "{}",
         "name": "name",
         "type": "\"string\""
        },
        {
         "metadata": "{}",
         "name": "size",
         "type": "\"long\""
        },
        {
         "metadata": "{}",
         "name": "modificationTime",
         "type": "\"long\""
        }
       ],
       "type": "table"
      }
     },
     "output_type": "display_data"
    }
   ],
   "source": [
    "%fs ls /FileStore/shared_uploads/hassom20042019@gmail.com/Occupancy/"
   ]
  },
  {
   "cell_type": "code",
   "execution_count": 0,
   "metadata": {
    "application/vnd.databricks.v1+cell": {
     "cellMetadata": {
      "byteLimit": 2048000,
      "rowLimit": 10000
     },
     "inputWidgets": {},
     "nuid": "0a6baaf0-3b54-426d-9cb9-8527fc080da5",
     "showTitle": false,
     "tableResultSettingsMap": {},
     "title": ""
    }
   },
   "outputs": [],
   "source": [
    "from pyspark.sql import SparkSession\n",
    "from pyspark.sql.types import StructType, StructField, StringType, TimestampType\n",
    "from pyspark.sql.functions import window\n",
    "from pyspark.sql.types import StructType, StructField, StringType, IntegerType"
   ]
  },
  {
   "cell_type": "code",
   "execution_count": 0,
   "metadata": {
    "application/vnd.databricks.v1+cell": {
     "cellMetadata": {
      "byteLimit": 2048000,
      "rowLimit": 10000
     },
     "inputWidgets": {},
     "nuid": "40ef0009-0d71-4a31-a87c-d7490389d1af",
     "showTitle": false,
     "tableResultSettingsMap": {},
     "title": ""
    }
   },
   "outputs": [],
   "source": [
    "spark = SparkSession.builder.appName(\"OccStreaming\").getOrCreate()\n",
    "\n",
    "inputPath = \"/FileStore/shared_uploads/hassom20042019@gmail.com/Occupancy/\"\n",
    "\n",
    "# Define the schema to speed up processing\n",
    "csvSchema = StructType([\n",
    "    StructField(\"date\", TimestampType(), True),\n",
    "    StructField(\"Temperature\", StringType(), True),\n",
    "    StructField(\"Humidity\", StringType(), True),\n",
    "    StructField(\"Light\", IntegerType(), True),\n",
    "    StructField(\"CO2\", IntegerType(), True),\n",
    "    StructField(\"HumidityRatio\", IntegerType(), True),\n",
    "    StructField(\"Occupancy\", IntegerType(), True)\n",
    "])\n",
    "\n",
    "streamingInputDF = (\n",
    "  spark\n",
    "    .readStream\n",
    "    .schema(csvSchema)               # Set the schema of the csv data\n",
    "    .option(\"maxFilesPerTrigger\", 1)  # Treat a sequence of files as a stream by picking one file at a time\n",
    "    .csv(inputPath)\n",
    ")\n",
    "\n",
    "# Create a new column \"IsOccupied\" based on the \"Occupancy\" column\n",
    "streamingOccDF = (\n",
    "  streamingInputDF\n",
    "        .groupBy(\n",
    "      streamingInputDF.Occupancy,\n",
    "      window(streamingInputDF.date, \"1 day\"))\n",
    "    .count()\n",
    ")"
   ]
  },
  {
   "cell_type": "code",
   "execution_count": 0,
   "metadata": {
    "application/vnd.databricks.v1+cell": {
     "cellMetadata": {
      "byteLimit": 2048000,
      "rowLimit": 10000
     },
     "inputWidgets": {},
     "nuid": "088742ac-08a7-4c2c-85a5-6767bd0d9719",
     "showTitle": false,
     "tableResultSettingsMap": {},
     "title": ""
    }
   },
   "outputs": [],
   "source": [
    "# Start the streaming job\n",
    "query = (\n",
    "  streamingOccDF\n",
    "    .writeStream\n",
    "    .format(\"memory\")        # memory = store in-memory table (for testing only)\n",
    "    .queryName(\"occupancyq\")     # counts = name of the in-memory table\n",
    "    .outputMode(\"complete\")  # complete = all the counts should be in the table\n",
    "    .start()\n",
    ")"
   ]
  },
  {
   "cell_type": "code",
   "execution_count": 0,
   "metadata": {
    "application/vnd.databricks.v1+cell": {
     "cellMetadata": {
      "byteLimit": 2048000,
      "implicitDf": true,
      "rowLimit": 10000
     },
     "inputWidgets": {},
     "nuid": "156e0ae7-d932-4232-b341-7e0d7db4384b",
     "showTitle": false,
     "tableResultSettingsMap": {},
     "title": ""
    }
   },
   "outputs": [
    {
     "output_type": "display_data",
     "data": {
      "text/html": [
       "<style scoped>\n",
       "  .table-result-container {\n",
       "    max-height: 300px;\n",
       "    overflow: auto;\n",
       "  }\n",
       "  table, th, td {\n",
       "    border: 1px solid black;\n",
       "    border-collapse: collapse;\n",
       "  }\n",
       "  th, td {\n",
       "    padding: 5px;\n",
       "  }\n",
       "  th {\n",
       "    text-align: left;\n",
       "  }\n",
       "</style><div class='table-result-container'><table class='table-result'><thead style='background-color: white'><tr><th>Occupancy</th><th>time</th><th>count</th></tr></thead><tbody><tr><td>0</td><td>Feb-05 00:00</td><td>2481</td></tr><tr><td>0</td><td>Feb-17 00:00</td><td>2667</td></tr><tr><td>0</td><td>Feb-09 00:00</td><td>4320</td></tr><tr><td>1</td><td>Feb-17 00:00</td><td>1653</td></tr><tr><td>0</td><td>Feb-15 00:00</td><td>4320</td></tr><tr><td>0</td><td>Feb-13 00:00</td><td>3588</td></tr><tr><td>0</td><td>Feb-19 00:00</td><td>1653</td></tr><tr><td>1</td><td>Feb-13 00:00</td><td>732</td></tr><tr><td>1</td><td>Feb-18 00:00</td><td>1611</td></tr><tr><td>1</td><td>Feb-11 00:00</td><td>162</td></tr><tr><td>1</td><td>Feb-06 00:00</td><td>1617</td></tr><tr><td>1</td><td>Feb-12 00:00</td><td>642</td></tr><tr><td>0</td><td>Feb-08 00:00</td><td>4320</td></tr><tr><td>0</td><td>Feb-11 00:00</td><td>1560</td></tr><tr><td>0</td><td>Feb-04 00:00</td><td>2523</td></tr><tr><td>0</td><td>Feb-14 00:00</td><td>2838</td></tr><tr><td>1</td><td>Feb-03 00:00</td><td>609</td></tr><tr><td>1</td><td>Feb-10 00:00</td><td>1602</td></tr><tr><td>1</td><td>Feb-05 00:00</td><td>558</td></tr><tr><td>0</td><td>Feb-03 00:00</td><td>1134</td></tr><tr><td>1</td><td>Feb-14 00:00</td><td>1482</td></tr><tr><td>0</td><td>Feb-12 00:00</td><td>1014</td></tr><tr><td>1</td><td>Feb-04 00:00</td><td>1797</td></tr><tr><td>0</td><td>Feb-07 00:00</td><td>2562</td></tr><tr><td>0</td><td>Feb-10 00:00</td><td>2718</td></tr><tr><td>1</td><td>Feb-19 00:00</td><td>27</td></tr><tr><td>0</td><td>Feb-06 00:00</td><td>2703</td></tr><tr><td>1</td><td>Feb-07 00:00</td><td>1758</td></tr><tr><td>0</td><td>Feb-16 00:00</td><td>4320</td></tr><tr><td>0</td><td>Feb-18 00:00</td><td>2709</td></tr></tbody></table></div>"
      ]
     },
     "metadata": {
      "application/vnd.databricks.v1+output": {
       "addedWidgets": {},
       "aggData": [],
       "aggError": "",
       "aggOverflow": false,
       "aggSchema": [],
       "aggSeriesLimitReached": false,
       "aggType": "",
       "arguments": {},
       "columnCustomDisplayInfos": {},
       "data": [
        [
         0,
         "Feb-05 00:00",
         2481
        ],
        [
         0,
         "Feb-17 00:00",
         2667
        ],
        [
         0,
         "Feb-09 00:00",
         4320
        ],
        [
         1,
         "Feb-17 00:00",
         1653
        ],
        [
         0,
         "Feb-15 00:00",
         4320
        ],
        [
         0,
         "Feb-13 00:00",
         3588
        ],
        [
         0,
         "Feb-19 00:00",
         1653
        ],
        [
         1,
         "Feb-13 00:00",
         732
        ],
        [
         1,
         "Feb-18 00:00",
         1611
        ],
        [
         1,
         "Feb-11 00:00",
         162
        ],
        [
         1,
         "Feb-06 00:00",
         1617
        ],
        [
         1,
         "Feb-12 00:00",
         642
        ],
        [
         0,
         "Feb-08 00:00",
         4320
        ],
        [
         0,
         "Feb-11 00:00",
         1560
        ],
        [
         0,
         "Feb-04 00:00",
         2523
        ],
        [
         0,
         "Feb-14 00:00",
         2838
        ],
        [
         1,
         "Feb-03 00:00",
         609
        ],
        [
         1,
         "Feb-10 00:00",
         1602
        ],
        [
         1,
         "Feb-05 00:00",
         558
        ],
        [
         0,
         "Feb-03 00:00",
         1134
        ],
        [
         1,
         "Feb-14 00:00",
         1482
        ],
        [
         0,
         "Feb-12 00:00",
         1014
        ],
        [
         1,
         "Feb-04 00:00",
         1797
        ],
        [
         0,
         "Feb-07 00:00",
         2562
        ],
        [
         0,
         "Feb-10 00:00",
         2718
        ],
        [
         1,
         "Feb-19 00:00",
         27
        ],
        [
         0,
         "Feb-06 00:00",
         2703
        ],
        [
         1,
         "Feb-07 00:00",
         1758
        ],
        [
         0,
         "Feb-16 00:00",
         4320
        ],
        [
         0,
         "Feb-18 00:00",
         2709
        ]
       ],
       "datasetInfos": [],
       "dbfsResultPath": null,
       "isJsonSchema": true,
       "metadata": {},
       "overflow": false,
       "plotOptions": {
        "customPlotOptions": {},
        "displayType": "table",
        "pivotAggregation": null,
        "pivotColumns": null,
        "xColumns": null,
        "yColumns": null
       },
       "removedWidgets": [],
       "schema": [
        {
         "metadata": "{}",
         "name": "Occupancy",
         "type": "\"integer\""
        },
        {
         "metadata": "{}",
         "name": "time",
         "type": "\"string\""
        },
        {
         "metadata": "{}",
         "name": "count",
         "type": "\"long\""
        }
       ],
       "type": "table"
      }
     },
     "output_type": "display_data"
    }
   ],
   "source": [
    "%sql select Occupancy, date_format(window.end, \"MMM-dd HH:mm\") as time, count from occupancyq "
   ]
  }
 ],
 "metadata": {
  "application/vnd.databricks.v1+notebook": {
   "computePreferences": null,
   "dashboards": [],
   "environmentMetadata": null,
   "language": "python",
   "notebookMetadata": {
    "mostRecentlyExecutedCommandWithImplicitDF": {
     "commandId": 3710073272186721,
     "dataframes": [
      "_sqldf"
     ]
    },
    "pythonIndentUnit": 4
   },
   "notebookName": "StreamOccupancyCount",
   "widgets": {}
  }
 },
 "nbformat": 4,
 "nbformat_minor": 0
}
